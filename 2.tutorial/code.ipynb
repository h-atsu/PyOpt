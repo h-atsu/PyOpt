{
 "cells": [
  {
   "cell_type": "code",
   "execution_count": 43,
   "metadata": {},
   "outputs": [],
   "source": [
    "import pandas as pd\n",
    "import pulp "
   ]
  },
  {
   "cell_type": "code",
   "execution_count": 44,
   "metadata": {},
   "outputs": [],
   "source": [
    "stock_df = pd.read_csv('stocks.csv')\n",
    "requires_df = pd.read_csv('requires.csv')\n",
    "gains_df = pd.read_csv('gains.csv')"
   ]
  },
  {
   "cell_type": "code",
   "execution_count": 45,
   "metadata": {},
   "outputs": [
    {
     "data": {
      "text/html": [
       "<div>\n",
       "<style scoped>\n",
       "    .dataframe tbody tr th:only-of-type {\n",
       "        vertical-align: middle;\n",
       "    }\n",
       "\n",
       "    .dataframe tbody tr th {\n",
       "        vertical-align: top;\n",
       "    }\n",
       "\n",
       "    .dataframe thead th {\n",
       "        text-align: right;\n",
       "    }\n",
       "</style>\n",
       "<table border=\"1\" class=\"dataframe\">\n",
       "  <thead>\n",
       "    <tr style=\"text-align: right;\">\n",
       "      <th></th>\n",
       "      <th>m</th>\n",
       "      <th>stock</th>\n",
       "    </tr>\n",
       "  </thead>\n",
       "  <tbody>\n",
       "    <tr>\n",
       "      <th>0</th>\n",
       "      <td>m1</td>\n",
       "      <td>35</td>\n",
       "    </tr>\n",
       "    <tr>\n",
       "      <th>1</th>\n",
       "      <td>m2</td>\n",
       "      <td>22</td>\n",
       "    </tr>\n",
       "    <tr>\n",
       "      <th>2</th>\n",
       "      <td>m3</td>\n",
       "      <td>27</td>\n",
       "    </tr>\n",
       "  </tbody>\n",
       "</table>\n",
       "</div>"
      ],
      "text/plain": [
       "    m  stock\n",
       "0  m1     35\n",
       "1  m2     22\n",
       "2  m3     27"
      ]
     },
     "execution_count": 45,
     "metadata": {},
     "output_type": "execute_result"
    }
   ],
   "source": [
    "stock_df.head()"
   ]
  },
  {
   "cell_type": "code",
   "execution_count": 46,
   "metadata": {},
   "outputs": [
    {
     "data": {
      "text/html": [
       "<div>\n",
       "<style scoped>\n",
       "    .dataframe tbody tr th:only-of-type {\n",
       "        vertical-align: middle;\n",
       "    }\n",
       "\n",
       "    .dataframe tbody tr th {\n",
       "        vertical-align: top;\n",
       "    }\n",
       "\n",
       "    .dataframe thead th {\n",
       "        text-align: right;\n",
       "    }\n",
       "</style>\n",
       "<table border=\"1\" class=\"dataframe\">\n",
       "  <thead>\n",
       "    <tr style=\"text-align: right;\">\n",
       "      <th></th>\n",
       "      <th>p</th>\n",
       "      <th>m</th>\n",
       "      <th>require</th>\n",
       "    </tr>\n",
       "  </thead>\n",
       "  <tbody>\n",
       "    <tr>\n",
       "      <th>0</th>\n",
       "      <td>p1</td>\n",
       "      <td>m1</td>\n",
       "      <td>2</td>\n",
       "    </tr>\n",
       "    <tr>\n",
       "      <th>1</th>\n",
       "      <td>p1</td>\n",
       "      <td>m2</td>\n",
       "      <td>0</td>\n",
       "    </tr>\n",
       "    <tr>\n",
       "      <th>2</th>\n",
       "      <td>p1</td>\n",
       "      <td>m3</td>\n",
       "      <td>1</td>\n",
       "    </tr>\n",
       "    <tr>\n",
       "      <th>3</th>\n",
       "      <td>p2</td>\n",
       "      <td>m1</td>\n",
       "      <td>3</td>\n",
       "    </tr>\n",
       "    <tr>\n",
       "      <th>4</th>\n",
       "      <td>p2</td>\n",
       "      <td>m2</td>\n",
       "      <td>2</td>\n",
       "    </tr>\n",
       "  </tbody>\n",
       "</table>\n",
       "</div>"
      ],
      "text/plain": [
       "    p   m  require\n",
       "0  p1  m1        2\n",
       "1  p1  m2        0\n",
       "2  p1  m3        1\n",
       "3  p2  m1        3\n",
       "4  p2  m2        2"
      ]
     },
     "execution_count": 46,
     "metadata": {},
     "output_type": "execute_result"
    }
   ],
   "source": [
    "requires_df.head()"
   ]
  },
  {
   "cell_type": "code",
   "execution_count": 47,
   "metadata": {},
   "outputs": [
    {
     "data": {
      "text/html": [
       "<div>\n",
       "<style scoped>\n",
       "    .dataframe tbody tr th:only-of-type {\n",
       "        vertical-align: middle;\n",
       "    }\n",
       "\n",
       "    .dataframe tbody tr th {\n",
       "        vertical-align: top;\n",
       "    }\n",
       "\n",
       "    .dataframe thead th {\n",
       "        text-align: right;\n",
       "    }\n",
       "</style>\n",
       "<table border=\"1\" class=\"dataframe\">\n",
       "  <thead>\n",
       "    <tr style=\"text-align: right;\">\n",
       "      <th></th>\n",
       "      <th>p</th>\n",
       "      <th>gain</th>\n",
       "    </tr>\n",
       "  </thead>\n",
       "  <tbody>\n",
       "    <tr>\n",
       "      <th>0</th>\n",
       "      <td>p1</td>\n",
       "      <td>3</td>\n",
       "    </tr>\n",
       "    <tr>\n",
       "      <th>1</th>\n",
       "      <td>p2</td>\n",
       "      <td>4</td>\n",
       "    </tr>\n",
       "    <tr>\n",
       "      <th>2</th>\n",
       "      <td>p3</td>\n",
       "      <td>4</td>\n",
       "    </tr>\n",
       "    <tr>\n",
       "      <th>3</th>\n",
       "      <td>p4</td>\n",
       "      <td>5</td>\n",
       "    </tr>\n",
       "  </tbody>\n",
       "</table>\n",
       "</div>"
      ],
      "text/plain": [
       "    p  gain\n",
       "0  p1     3\n",
       "1  p2     4\n",
       "2  p3     4\n",
       "3  p4     5"
      ]
     },
     "execution_count": 47,
     "metadata": {},
     "output_type": "execute_result"
    }
   ],
   "source": [
    "gains_df.head()"
   ]
  },
  {
   "cell_type": "code",
   "execution_count": 48,
   "metadata": {},
   "outputs": [],
   "source": [
    "#原材料の添字集合\n",
    "M = list(stock_df['m'])\n",
    "#製品の添字集合\n",
    "P = list(gains_df['p'])"
   ]
  },
  {
   "cell_type": "code",
   "execution_count": 50,
   "metadata": {},
   "outputs": [],
   "source": [
    "stock = {row.m:row.stock for row in stock_df.itertuples()}"
   ]
  },
  {
   "cell_type": "code",
   "execution_count": 51,
   "metadata": {},
   "outputs": [
    {
     "data": {
      "text/plain": [
       "{'m1': 35, 'm2': 22, 'm3': 27}"
      ]
     },
     "execution_count": 51,
     "metadata": {},
     "output_type": "execute_result"
    }
   ],
   "source": [
    "stock"
   ]
  },
  {
   "cell_type": "code",
   "execution_count": 52,
   "metadata": {},
   "outputs": [],
   "source": [
    "require = {(row.p, row.m) : row.require for row in requires_df.itertuples()}"
   ]
  },
  {
   "cell_type": "code",
   "execution_count": 53,
   "metadata": {},
   "outputs": [
    {
     "data": {
      "text/plain": [
       "{('p1', 'm1'): 2,\n",
       " ('p1', 'm2'): 0,\n",
       " ('p1', 'm3'): 1,\n",
       " ('p2', 'm1'): 3,\n",
       " ('p2', 'm2'): 2,\n",
       " ('p2', 'm3'): 0,\n",
       " ('p3', 'm1'): 0,\n",
       " ('p3', 'm2'): 2,\n",
       " ('p3', 'm3'): 2,\n",
       " ('p4', 'm1'): 2,\n",
       " ('p4', 'm2'): 2,\n",
       " ('p4', 'm3'): 2}"
      ]
     },
     "execution_count": 53,
     "metadata": {},
     "output_type": "execute_result"
    }
   ],
   "source": [
    "require"
   ]
  },
  {
   "cell_type": "code",
   "execution_count": 54,
   "metadata": {},
   "outputs": [],
   "source": [
    "gain = {row.p : row.gain for row in gains_df.itertuples()}"
   ]
  },
  {
   "cell_type": "code",
   "execution_count": 56,
   "metadata": {},
   "outputs": [
    {
     "name": "stdout",
     "output_type": "stream",
     "text": [
      "Welcome to the CBC MILP Solver \n",
      "Version: 2.9.0 \n",
      "Build Date: Feb 12 2015 \n",
      "\n",
      "command line - /opt/anaconda3/lib/python3.8/site-packages/pulp/apis/../solverdir/cbc/osx/64/cbc /var/folders/kc/5vks2chj5jg_zq9fvglb01jr0000gp/T/8678d19ddf3e411ebd2311835658ae43-pulp.mps max ratio None allow None threads None presolve on strong None gomory on knapsack on probing on branch printingOptions all solution /var/folders/kc/5vks2chj5jg_zq9fvglb01jr0000gp/T/8678d19ddf3e411ebd2311835658ae43-pulp.sol (default strategy 1)\n",
      "At line 2 NAME          MODEL\n",
      "At line 3 ROWS\n",
      "At line 12 COLUMNS\n",
      "At line 30 RHS\n",
      "At line 38 BOUNDS\n",
      "At line 43 ENDATA\n",
      "Problem MODEL has 7 rows, 4 columns and 13 elements\n",
      "Coin0008I MODEL read with 0 errors\n",
      "String of None is illegal for double parameter ratioGap value remains 0\n",
      "String of None is illegal for double parameter allowableGap value remains 0\n",
      "String of None is illegal for integer parameter threads value remains 0\n",
      "String of None is illegal for integer parameter strongBranching value remains 5\n",
      "Option for gomoryCuts changed from ifmove to on\n",
      "Option for knapsackCuts changed from ifmove to on\n",
      "Presolve 3 (-4) rows, 4 (0) columns and 9 (-4) elements\n",
      "0  Obj -0 Dual inf 17.499996 (4)\n",
      "4  Obj 80.428571\n",
      "Optimal - objective value 80.428571\n",
      "After Postsolve, objective 80.428571, infeasibilities - dual 0 (0), primal 0 (0)\n",
      "Optimal objective 80.42857143 - 4 iterations time 0.002, Presolve 0.00\n",
      "Option for printingOptions changed from normal to all\n",
      "Total time (CPU seconds):       0.00   (Wallclock seconds):       0.00\n",
      "\n",
      "Status :  Optimal\n",
      "Optimal sol xp1 :  12.142857\n",
      "Optimal sol xp2 :  3.5714286\n",
      "Optimal sol xp3 :  7.4285714\n",
      "Optimal sol xp4 :  0.0\n",
      "Optimal value : 80.42857099999999\n"
     ]
    }
   ],
   "source": [
    "problem = pulp.LpProblem('LP', pulp.LpMaximize)\n",
    "#決定変数は生産量 P_i\n",
    "# LpVariableのdictionaryを作成\n",
    "x = pulp.LpVariable.dicts('x', P, cat='Continuous')\n",
    "for p in P:\n",
    "    problem += x[p] >= 0\n",
    "for m in M:\n",
    "    problem += pulp.lpSum([require[p,m] * x[p] for p in P]) <= stock[m]\n",
    "problem += pulp.lpSum([gain[p] * x[p] for p in P])    \n",
    "status = problem.solve()\n",
    "print(\"Status : \", pulp.LpStatus[status])\n",
    "#print(pulp.LpStatus)\n",
    "for p in P:\n",
    "    print(f\"Optimal sol x{p} : \", x[p].value())\n",
    "print(f\"Optimal value : {problem.objective.value()}\")    "
   ]
  },
  {
   "cell_type": "code",
   "execution_count": 94,
   "metadata": {},
   "outputs": [
    {
     "name": "stdout",
     "output_type": "stream",
     "text": [
      "Status :  Optimal\n",
      "{0: 'Not Solved', 1: 'Optimal', -1: 'Infeasible', -2: 'Unbounded', -3: 'Undefined'}\n",
      "Optimal sol xp1 :  13.0\n",
      "Optimal sol xp2 :  3.0\n",
      "Optimal sol xp3 :  7.0\n",
      "Optimal sol xp4 :  -0.0\n",
      "Optimal value : 79.0\n"
     ]
    }
   ],
   "source": [
    "problem = pulp.LpProblem('LP', pulp.LpMaximize)\n",
    "#決定変数は生産量 P_i\n",
    "x = pulp.LpVariable.dicts('x', P, cat='Integer')\n",
    "for p in P:\n",
    "    problem += x[p] >= 0\n",
    "for m in M:\n",
    "    problem += pulp.lpSum([require[p,m] * x[p] for p in P]) <= stock[m]\n",
    "problem += pulp.lpSum([gain[p] * x[p] for p in P])    \n",
    "status = problem.solve()\n",
    "print(\"Status : \", pulp.LpStatus[status])\n",
    "print(pulp.LpStatus)\n",
    "for p in P:\n",
    "    print(f\"Optimal sol x{p} : \", x[p].value())\n",
    "print(f\"Optimal value : {problem.objective.value()}\")    "
   ]
  },
  {
   "cell_type": "code",
   "execution_count": null,
   "metadata": {},
   "outputs": [],
   "source": []
  }
 ],
 "metadata": {
  "kernelspec": {
   "display_name": "Python 3 (ipykernel)",
   "language": "python",
   "name": "python3"
  },
  "language_info": {
   "codemirror_mode": {
    "name": "ipython",
    "version": 3
   },
   "file_extension": ".py",
   "mimetype": "text/x-python",
   "name": "python",
   "nbconvert_exporter": "python",
   "pygments_lexer": "ipython3",
   "version": "3.8.5"
  }
 },
 "nbformat": 4,
 "nbformat_minor": 4
}
